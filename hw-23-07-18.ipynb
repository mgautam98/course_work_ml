{
 "cells": [
  {
   "cell_type": "code",
   "execution_count": 20,
   "metadata": {},
   "outputs": [],
   "source": [
    "from bs4 import BeautifulSoup\n",
    "import lxml"
   ]
  },
  {
   "cell_type": "code",
   "execution_count": 21,
   "metadata": {},
   "outputs": [],
   "source": [
    "from pandas import read_html\n",
    "import pandas as pd\n",
    "from pandas import Series, DataFrame"
   ]
  },
  {
   "cell_type": "code",
   "execution_count": 22,
   "metadata": {},
   "outputs": [],
   "source": [
    "url = 'http://www.fdic.gov/bank/individual/failed/banklist.html'"
   ]
  },
  {
   "cell_type": "code",
   "execution_count": 23,
   "metadata": {},
   "outputs": [
    {
     "ename": "URLError",
     "evalue": "<urlopen error [Errno -2] Name or service not known>",
     "output_type": "error",
     "traceback": [
      "\u001b[0;31m---------------------------------------------------------------------------\u001b[0m",
      "\u001b[0;31mgaierror\u001b[0m                                  Traceback (most recent call last)",
      "\u001b[0;32m/usr/lib/python3.6/urllib/request.py\u001b[0m in \u001b[0;36mdo_open\u001b[0;34m(self, http_class, req, **http_conn_args)\u001b[0m\n\u001b[1;32m   1317\u001b[0m                 h.request(req.get_method(), req.selector, req.data, headers,\n\u001b[0;32m-> 1318\u001b[0;31m                           encode_chunked=req.has_header('Transfer-encoding'))\n\u001b[0m\u001b[1;32m   1319\u001b[0m             \u001b[0;32mexcept\u001b[0m \u001b[0mOSError\u001b[0m \u001b[0;32mas\u001b[0m \u001b[0merr\u001b[0m\u001b[0;34m:\u001b[0m \u001b[0;31m# timeout error\u001b[0m\u001b[0;34m\u001b[0m\u001b[0m\n",
      "\u001b[0;32m/usr/lib/python3.6/http/client.py\u001b[0m in \u001b[0;36mrequest\u001b[0;34m(self, method, url, body, headers, encode_chunked)\u001b[0m\n\u001b[1;32m   1238\u001b[0m         \u001b[0;34m\"\"\"Send a complete request to the server.\"\"\"\u001b[0m\u001b[0;34m\u001b[0m\u001b[0m\n\u001b[0;32m-> 1239\u001b[0;31m         \u001b[0mself\u001b[0m\u001b[0;34m.\u001b[0m\u001b[0m_send_request\u001b[0m\u001b[0;34m(\u001b[0m\u001b[0mmethod\u001b[0m\u001b[0;34m,\u001b[0m \u001b[0murl\u001b[0m\u001b[0;34m,\u001b[0m \u001b[0mbody\u001b[0m\u001b[0;34m,\u001b[0m \u001b[0mheaders\u001b[0m\u001b[0;34m,\u001b[0m \u001b[0mencode_chunked\u001b[0m\u001b[0;34m)\u001b[0m\u001b[0;34m\u001b[0m\u001b[0m\n\u001b[0m\u001b[1;32m   1240\u001b[0m \u001b[0;34m\u001b[0m\u001b[0m\n",
      "\u001b[0;32m/usr/lib/python3.6/http/client.py\u001b[0m in \u001b[0;36m_send_request\u001b[0;34m(self, method, url, body, headers, encode_chunked)\u001b[0m\n\u001b[1;32m   1284\u001b[0m             \u001b[0mbody\u001b[0m \u001b[0;34m=\u001b[0m \u001b[0m_encode\u001b[0m\u001b[0;34m(\u001b[0m\u001b[0mbody\u001b[0m\u001b[0;34m,\u001b[0m \u001b[0;34m'body'\u001b[0m\u001b[0;34m)\u001b[0m\u001b[0;34m\u001b[0m\u001b[0m\n\u001b[0;32m-> 1285\u001b[0;31m         \u001b[0mself\u001b[0m\u001b[0;34m.\u001b[0m\u001b[0mendheaders\u001b[0m\u001b[0;34m(\u001b[0m\u001b[0mbody\u001b[0m\u001b[0;34m,\u001b[0m \u001b[0mencode_chunked\u001b[0m\u001b[0;34m=\u001b[0m\u001b[0mencode_chunked\u001b[0m\u001b[0;34m)\u001b[0m\u001b[0;34m\u001b[0m\u001b[0m\n\u001b[0m\u001b[1;32m   1286\u001b[0m \u001b[0;34m\u001b[0m\u001b[0m\n",
      "\u001b[0;32m/usr/lib/python3.6/http/client.py\u001b[0m in \u001b[0;36mendheaders\u001b[0;34m(self, message_body, encode_chunked)\u001b[0m\n\u001b[1;32m   1233\u001b[0m             \u001b[0;32mraise\u001b[0m \u001b[0mCannotSendHeader\u001b[0m\u001b[0;34m(\u001b[0m\u001b[0;34m)\u001b[0m\u001b[0;34m\u001b[0m\u001b[0m\n\u001b[0;32m-> 1234\u001b[0;31m         \u001b[0mself\u001b[0m\u001b[0;34m.\u001b[0m\u001b[0m_send_output\u001b[0m\u001b[0;34m(\u001b[0m\u001b[0mmessage_body\u001b[0m\u001b[0;34m,\u001b[0m \u001b[0mencode_chunked\u001b[0m\u001b[0;34m=\u001b[0m\u001b[0mencode_chunked\u001b[0m\u001b[0;34m)\u001b[0m\u001b[0;34m\u001b[0m\u001b[0m\n\u001b[0m\u001b[1;32m   1235\u001b[0m \u001b[0;34m\u001b[0m\u001b[0m\n",
      "\u001b[0;32m/usr/lib/python3.6/http/client.py\u001b[0m in \u001b[0;36m_send_output\u001b[0;34m(self, message_body, encode_chunked)\u001b[0m\n\u001b[1;32m   1025\u001b[0m         \u001b[0;32mdel\u001b[0m \u001b[0mself\u001b[0m\u001b[0;34m.\u001b[0m\u001b[0m_buffer\u001b[0m\u001b[0;34m[\u001b[0m\u001b[0;34m:\u001b[0m\u001b[0;34m]\u001b[0m\u001b[0;34m\u001b[0m\u001b[0m\n\u001b[0;32m-> 1026\u001b[0;31m         \u001b[0mself\u001b[0m\u001b[0;34m.\u001b[0m\u001b[0msend\u001b[0m\u001b[0;34m(\u001b[0m\u001b[0mmsg\u001b[0m\u001b[0;34m)\u001b[0m\u001b[0;34m\u001b[0m\u001b[0m\n\u001b[0m\u001b[1;32m   1027\u001b[0m \u001b[0;34m\u001b[0m\u001b[0m\n",
      "\u001b[0;32m/usr/lib/python3.6/http/client.py\u001b[0m in \u001b[0;36msend\u001b[0;34m(self, data)\u001b[0m\n\u001b[1;32m    963\u001b[0m             \u001b[0;32mif\u001b[0m \u001b[0mself\u001b[0m\u001b[0;34m.\u001b[0m\u001b[0mauto_open\u001b[0m\u001b[0;34m:\u001b[0m\u001b[0;34m\u001b[0m\u001b[0m\n\u001b[0;32m--> 964\u001b[0;31m                 \u001b[0mself\u001b[0m\u001b[0;34m.\u001b[0m\u001b[0mconnect\u001b[0m\u001b[0;34m(\u001b[0m\u001b[0;34m)\u001b[0m\u001b[0;34m\u001b[0m\u001b[0m\n\u001b[0m\u001b[1;32m    965\u001b[0m             \u001b[0;32melse\u001b[0m\u001b[0;34m:\u001b[0m\u001b[0;34m\u001b[0m\u001b[0m\n",
      "\u001b[0;32m/usr/lib/python3.6/http/client.py\u001b[0m in \u001b[0;36mconnect\u001b[0;34m(self)\u001b[0m\n\u001b[1;32m    935\u001b[0m         self.sock = self._create_connection(\n\u001b[0;32m--> 936\u001b[0;31m             (self.host,self.port), self.timeout, self.source_address)\n\u001b[0m\u001b[1;32m    937\u001b[0m         \u001b[0mself\u001b[0m\u001b[0;34m.\u001b[0m\u001b[0msock\u001b[0m\u001b[0;34m.\u001b[0m\u001b[0msetsockopt\u001b[0m\u001b[0;34m(\u001b[0m\u001b[0msocket\u001b[0m\u001b[0;34m.\u001b[0m\u001b[0mIPPROTO_TCP\u001b[0m\u001b[0;34m,\u001b[0m \u001b[0msocket\u001b[0m\u001b[0;34m.\u001b[0m\u001b[0mTCP_NODELAY\u001b[0m\u001b[0;34m,\u001b[0m \u001b[0;36m1\u001b[0m\u001b[0;34m)\u001b[0m\u001b[0;34m\u001b[0m\u001b[0m\n",
      "\u001b[0;32m/usr/lib/python3.6/socket.py\u001b[0m in \u001b[0;36mcreate_connection\u001b[0;34m(address, timeout, source_address)\u001b[0m\n\u001b[1;32m    703\u001b[0m     \u001b[0merr\u001b[0m \u001b[0;34m=\u001b[0m \u001b[0;32mNone\u001b[0m\u001b[0;34m\u001b[0m\u001b[0m\n\u001b[0;32m--> 704\u001b[0;31m     \u001b[0;32mfor\u001b[0m \u001b[0mres\u001b[0m \u001b[0;32min\u001b[0m \u001b[0mgetaddrinfo\u001b[0m\u001b[0;34m(\u001b[0m\u001b[0mhost\u001b[0m\u001b[0;34m,\u001b[0m \u001b[0mport\u001b[0m\u001b[0;34m,\u001b[0m \u001b[0;36m0\u001b[0m\u001b[0;34m,\u001b[0m \u001b[0mSOCK_STREAM\u001b[0m\u001b[0;34m)\u001b[0m\u001b[0;34m:\u001b[0m\u001b[0;34m\u001b[0m\u001b[0m\n\u001b[0m\u001b[1;32m    705\u001b[0m         \u001b[0maf\u001b[0m\u001b[0;34m,\u001b[0m \u001b[0msocktype\u001b[0m\u001b[0;34m,\u001b[0m \u001b[0mproto\u001b[0m\u001b[0;34m,\u001b[0m \u001b[0mcanonname\u001b[0m\u001b[0;34m,\u001b[0m \u001b[0msa\u001b[0m \u001b[0;34m=\u001b[0m \u001b[0mres\u001b[0m\u001b[0;34m\u001b[0m\u001b[0m\n",
      "\u001b[0;32m/usr/lib/python3.6/socket.py\u001b[0m in \u001b[0;36mgetaddrinfo\u001b[0;34m(host, port, family, type, proto, flags)\u001b[0m\n\u001b[1;32m    744\u001b[0m     \u001b[0maddrlist\u001b[0m \u001b[0;34m=\u001b[0m \u001b[0;34m[\u001b[0m\u001b[0;34m]\u001b[0m\u001b[0;34m\u001b[0m\u001b[0m\n\u001b[0;32m--> 745\u001b[0;31m     \u001b[0;32mfor\u001b[0m \u001b[0mres\u001b[0m \u001b[0;32min\u001b[0m \u001b[0m_socket\u001b[0m\u001b[0;34m.\u001b[0m\u001b[0mgetaddrinfo\u001b[0m\u001b[0;34m(\u001b[0m\u001b[0mhost\u001b[0m\u001b[0;34m,\u001b[0m \u001b[0mport\u001b[0m\u001b[0;34m,\u001b[0m \u001b[0mfamily\u001b[0m\u001b[0;34m,\u001b[0m \u001b[0mtype\u001b[0m\u001b[0;34m,\u001b[0m \u001b[0mproto\u001b[0m\u001b[0;34m,\u001b[0m \u001b[0mflags\u001b[0m\u001b[0;34m)\u001b[0m\u001b[0;34m:\u001b[0m\u001b[0;34m\u001b[0m\u001b[0m\n\u001b[0m\u001b[1;32m    746\u001b[0m         \u001b[0maf\u001b[0m\u001b[0;34m,\u001b[0m \u001b[0msocktype\u001b[0m\u001b[0;34m,\u001b[0m \u001b[0mproto\u001b[0m\u001b[0;34m,\u001b[0m \u001b[0mcanonname\u001b[0m\u001b[0;34m,\u001b[0m \u001b[0msa\u001b[0m \u001b[0;34m=\u001b[0m \u001b[0mres\u001b[0m\u001b[0;34m\u001b[0m\u001b[0m\n",
      "\u001b[0;31mgaierror\u001b[0m: [Errno -2] Name or service not known",
      "\nDuring handling of the above exception, another exception occurred:\n",
      "\u001b[0;31mURLError\u001b[0m                                  Traceback (most recent call last)",
      "\u001b[0;32m<ipython-input-23-ae66ab5ebb9f>\u001b[0m in \u001b[0;36m<module>\u001b[0;34m()\u001b[0m\n\u001b[0;32m----> 1\u001b[0;31m \u001b[0md_frame\u001b[0m \u001b[0;34m=\u001b[0m \u001b[0mpd\u001b[0m\u001b[0;34m.\u001b[0m\u001b[0mio\u001b[0m\u001b[0;34m.\u001b[0m\u001b[0mhtml\u001b[0m\u001b[0;34m.\u001b[0m\u001b[0mread_html\u001b[0m\u001b[0;34m(\u001b[0m\u001b[0murl\u001b[0m\u001b[0;34m)\u001b[0m\u001b[0;34m\u001b[0m\u001b[0m\n\u001b[0m",
      "\u001b[0;32m/home/gautam/.local/lib/python3.6/site-packages/pandas/io/html.py\u001b[0m in \u001b[0;36mread_html\u001b[0;34m(io, match, flavor, header, index_col, skiprows, attrs, parse_dates, tupleize_cols, thousands, encoding, decimal, converters, na_values, keep_default_na, displayed_only)\u001b[0m\n\u001b[1;32m    985\u001b[0m                   \u001b[0mdecimal\u001b[0m\u001b[0;34m=\u001b[0m\u001b[0mdecimal\u001b[0m\u001b[0;34m,\u001b[0m \u001b[0mconverters\u001b[0m\u001b[0;34m=\u001b[0m\u001b[0mconverters\u001b[0m\u001b[0;34m,\u001b[0m \u001b[0mna_values\u001b[0m\u001b[0;34m=\u001b[0m\u001b[0mna_values\u001b[0m\u001b[0;34m,\u001b[0m\u001b[0;34m\u001b[0m\u001b[0m\n\u001b[1;32m    986\u001b[0m                   \u001b[0mkeep_default_na\u001b[0m\u001b[0;34m=\u001b[0m\u001b[0mkeep_default_na\u001b[0m\u001b[0;34m,\u001b[0m\u001b[0;34m\u001b[0m\u001b[0m\n\u001b[0;32m--> 987\u001b[0;31m                   displayed_only=displayed_only)\n\u001b[0m",
      "\u001b[0;32m/home/gautam/.local/lib/python3.6/site-packages/pandas/io/html.py\u001b[0m in \u001b[0;36m_parse\u001b[0;34m(flavor, io, match, attrs, encoding, displayed_only, **kwargs)\u001b[0m\n\u001b[1;32m    813\u001b[0m             \u001b[0;32mbreak\u001b[0m\u001b[0;34m\u001b[0m\u001b[0m\n\u001b[1;32m    814\u001b[0m     \u001b[0;32melse\u001b[0m\u001b[0;34m:\u001b[0m\u001b[0;34m\u001b[0m\u001b[0m\n\u001b[0;32m--> 815\u001b[0;31m         \u001b[0mraise_with_traceback\u001b[0m\u001b[0;34m(\u001b[0m\u001b[0mretained\u001b[0m\u001b[0;34m)\u001b[0m\u001b[0;34m\u001b[0m\u001b[0m\n\u001b[0m\u001b[1;32m    816\u001b[0m \u001b[0;34m\u001b[0m\u001b[0m\n\u001b[1;32m    817\u001b[0m     \u001b[0mret\u001b[0m \u001b[0;34m=\u001b[0m \u001b[0;34m[\u001b[0m\u001b[0;34m]\u001b[0m\u001b[0;34m\u001b[0m\u001b[0m\n",
      "\u001b[0;32m/home/gautam/.local/lib/python3.6/site-packages/pandas/compat/__init__.py\u001b[0m in \u001b[0;36mraise_with_traceback\u001b[0;34m(exc, traceback)\u001b[0m\n\u001b[1;32m    402\u001b[0m         \u001b[0;32mif\u001b[0m \u001b[0mtraceback\u001b[0m \u001b[0;34m==\u001b[0m \u001b[0mEllipsis\u001b[0m\u001b[0;34m:\u001b[0m\u001b[0;34m\u001b[0m\u001b[0m\n\u001b[1;32m    403\u001b[0m             \u001b[0m_\u001b[0m\u001b[0;34m,\u001b[0m \u001b[0m_\u001b[0m\u001b[0;34m,\u001b[0m \u001b[0mtraceback\u001b[0m \u001b[0;34m=\u001b[0m \u001b[0msys\u001b[0m\u001b[0;34m.\u001b[0m\u001b[0mexc_info\u001b[0m\u001b[0;34m(\u001b[0m\u001b[0;34m)\u001b[0m\u001b[0;34m\u001b[0m\u001b[0m\n\u001b[0;32m--> 404\u001b[0;31m         \u001b[0;32mraise\u001b[0m \u001b[0mexc\u001b[0m\u001b[0;34m.\u001b[0m\u001b[0mwith_traceback\u001b[0m\u001b[0;34m(\u001b[0m\u001b[0mtraceback\u001b[0m\u001b[0;34m)\u001b[0m\u001b[0;34m\u001b[0m\u001b[0m\n\u001b[0m\u001b[1;32m    405\u001b[0m \u001b[0;32melse\u001b[0m\u001b[0;34m:\u001b[0m\u001b[0;34m\u001b[0m\u001b[0m\n\u001b[1;32m    406\u001b[0m     \u001b[0;31m# this version of raise is a syntax error in Python 3\u001b[0m\u001b[0;34m\u001b[0m\u001b[0;34m\u001b[0m\u001b[0m\n",
      "\u001b[0;31mURLError\u001b[0m: <urlopen error [Errno -2] Name or service not known>"
     ]
    }
   ],
   "source": [
    "d_frame = pd.io.html.read_html(url)"
   ]
  },
  {
   "cell_type": "code",
   "execution_count": 24,
   "metadata": {},
   "outputs": [
    {
     "ename": "NameError",
     "evalue": "name 'd_frame' is not defined",
     "output_type": "error",
     "traceback": [
      "\u001b[0;31m---------------------------------------------------------------------------\u001b[0m",
      "\u001b[0;31mNameError\u001b[0m                                 Traceback (most recent call last)",
      "\u001b[0;32m<ipython-input-24-b798e92af62d>\u001b[0m in \u001b[0;36m<module>\u001b[0;34m()\u001b[0m\n\u001b[0;32m----> 1\u001b[0;31m \u001b[0mlen\u001b[0m\u001b[0;34m(\u001b[0m\u001b[0md_frame\u001b[0m\u001b[0;34m)\u001b[0m\u001b[0;34m\u001b[0m\u001b[0m\n\u001b[0m",
      "\u001b[0;31mNameError\u001b[0m: name 'd_frame' is not defined"
     ]
    }
   ],
   "source": [
    "len(d_frame)"
   ]
  },
  {
   "cell_type": "code",
   "execution_count": 25,
   "metadata": {},
   "outputs": [
    {
     "ename": "NameError",
     "evalue": "name 'd_frame' is not defined",
     "output_type": "error",
     "traceback": [
      "\u001b[0;31m---------------------------------------------------------------------------\u001b[0m",
      "\u001b[0;31mNameError\u001b[0m                                 Traceback (most recent call last)",
      "\u001b[0;32m<ipython-input-25-9e2a68dd86a4>\u001b[0m in \u001b[0;36m<module>\u001b[0;34m()\u001b[0m\n\u001b[0;32m----> 1\u001b[0;31m \u001b[0md_frame\u001b[0m\u001b[0;34m[\u001b[0m\u001b[0;36m0\u001b[0m\u001b[0;34m]\u001b[0m\u001b[0;34m\u001b[0m\u001b[0m\n\u001b[0m",
      "\u001b[0;31mNameError\u001b[0m: name 'd_frame' is not defined"
     ]
    }
   ],
   "source": [
    "d_frame[0]"
   ]
  },
  {
   "cell_type": "raw",
   "metadata": {},
   "source": [
    "#datatau assignment"
   ]
  },
  {
   "cell_type": "code",
   "execution_count": null,
   "metadata": {},
   "outputs": [],
   "source": [
    "url = \"https://www.datatau.com/\""
   ]
  },
  {
   "cell_type": "code",
   "execution_count": null,
   "metadata": {},
   "outputs": [],
   "source": [
    "datatau = pd.io.html.read_html(url)"
   ]
  },
  {
   "cell_type": "raw",
   "metadata": {},
   "source": [
    "Wikipedia country and capitals"
   ]
  },
  {
   "cell_type": "code",
   "execution_count": 26,
   "metadata": {},
   "outputs": [],
   "source": [
    "url = \"https://en.wikipedia.org/wiki/List_of_countries_by_national_capital,_largest_and_second-largest_cities\""
   ]
  },
  {
   "cell_type": "code",
   "execution_count": 27,
   "metadata": {},
   "outputs": [],
   "source": [
    "wiki = pd.io.html.read_html(url)"
   ]
  },
  {
   "cell_type": "code",
   "execution_count": 28,
   "metadata": {},
   "outputs": [
    {
     "data": {
      "text/html": [
       "<div>\n",
       "<style scoped>\n",
       "    .dataframe tbody tr th:only-of-type {\n",
       "        vertical-align: middle;\n",
       "    }\n",
       "\n",
       "    .dataframe tbody tr th {\n",
       "        vertical-align: top;\n",
       "    }\n",
       "\n",
       "    .dataframe thead th {\n",
       "        text-align: right;\n",
       "    }\n",
       "</style>\n",
       "<table border=\"1\" class=\"dataframe\">\n",
       "  <thead>\n",
       "    <tr style=\"text-align: right;\">\n",
       "      <th></th>\n",
       "      <th>0</th>\n",
       "      <th>1</th>\n",
       "      <th>2</th>\n",
       "      <th>3</th>\n",
       "      <th>4</th>\n",
       "      <th>5</th>\n",
       "      <th>6</th>\n",
       "    </tr>\n",
       "  </thead>\n",
       "  <tbody>\n",
       "    <tr>\n",
       "      <th>0</th>\n",
       "      <td>Country</td>\n",
       "      <td>Capital</td>\n",
       "      <td>Population</td>\n",
       "      <td>Largest city</td>\n",
       "      <td>Population</td>\n",
       "      <td>Ratio</td>\n",
       "      <td>Note</td>\n",
       "    </tr>\n",
       "    <tr>\n",
       "      <th>1</th>\n",
       "      <td>Australia</td>\n",
       "      <td>Canberra</td>\n",
       "      <td>390706</td>\n",
       "      <td>Sydney</td>\n",
       "      <td>4921000</td>\n",
       "      <td>12.6</td>\n",
       "      <td>Although Canberra has been Australia's Capital...</td>\n",
       "    </tr>\n",
       "    <tr>\n",
       "      <th>2</th>\n",
       "      <td>Belize</td>\n",
       "      <td>Belmopan</td>\n",
       "      <td>16400</td>\n",
       "      <td>Belize City</td>\n",
       "      <td>70000</td>\n",
       "      <td>4.27</td>\n",
       "      <td>Belize City was the capital until 1970.</td>\n",
       "    </tr>\n",
       "    <tr>\n",
       "      <th>3</th>\n",
       "      <td>Benin</td>\n",
       "      <td>Porto-Novo</td>\n",
       "      <td>223500</td>\n",
       "      <td>Cotonou</td>\n",
       "      <td>761100</td>\n",
       "      <td>3.4</td>\n",
       "      <td>Cotonou is the de facto capital with seat of g...</td>\n",
       "    </tr>\n",
       "    <tr>\n",
       "      <th>4</th>\n",
       "      <td>Bolivia</td>\n",
       "      <td>Sucre</td>\n",
       "      <td>259388</td>\n",
       "      <td>Santa Cruz de la Sierra[252]</td>\n",
       "      <td>1453549</td>\n",
       "      <td>7.1</td>\n",
       "      <td>La Paz is the de facto capital with seat of go...</td>\n",
       "    </tr>\n",
       "    <tr>\n",
       "      <th>5</th>\n",
       "      <td>Brazil</td>\n",
       "      <td>Brasília</td>\n",
       "      <td>2557158</td>\n",
       "      <td>São Paulo</td>\n",
       "      <td>11150249</td>\n",
       "      <td>4.55</td>\n",
       "      <td>Brasília is a planned city, inaugurated in 196...</td>\n",
       "    </tr>\n",
       "    <tr>\n",
       "      <th>6</th>\n",
       "      <td>Cameroon</td>\n",
       "      <td>Yaoundé</td>\n",
       "      <td>1430000</td>\n",
       "      <td>Douala</td>\n",
       "      <td>2,000,000 +</td>\n",
       "      <td>1.4</td>\n",
       "      <td>Yaoundé is the second largest city of Cameroon.</td>\n",
       "    </tr>\n",
       "    <tr>\n",
       "      <th>7</th>\n",
       "      <td>Canada</td>\n",
       "      <td>Ottawa</td>\n",
       "      <td>812129</td>\n",
       "      <td>Toronto</td>\n",
       "      <td>2503281</td>\n",
       "      <td>3.08</td>\n",
       "      <td>Toronto was the capital of the united Province...</td>\n",
       "    </tr>\n",
       "    <tr>\n",
       "      <th>8</th>\n",
       "      <td>China</td>\n",
       "      <td>Beijing</td>\n",
       "      <td>22000000</td>\n",
       "      <td>Shanghai</td>\n",
       "      <td>34000000</td>\n",
       "      <td>1.55</td>\n",
       "      <td>Beijing is the second largest city of China by...</td>\n",
       "    </tr>\n",
       "    <tr>\n",
       "      <th>9</th>\n",
       "      <td>Côte d'Ivoire</td>\n",
       "      <td>Yamoussoukro</td>\n",
       "      <td>200659</td>\n",
       "      <td>Abidjan</td>\n",
       "      <td>4348000</td>\n",
       "      <td>21.7</td>\n",
       "      <td>Abidjan was the capital until 1983.</td>\n",
       "    </tr>\n",
       "    <tr>\n",
       "      <th>10</th>\n",
       "      <td>Ecuador</td>\n",
       "      <td>Quito</td>\n",
       "      <td>1397698</td>\n",
       "      <td>Guayaquil</td>\n",
       "      <td>2600000</td>\n",
       "      <td>1.86</td>\n",
       "      <td>Quito is the second largest city of Ecuador.</td>\n",
       "    </tr>\n",
       "    <tr>\n",
       "      <th>11</th>\n",
       "      <td>Equatorial Guinea</td>\n",
       "      <td>Malabo</td>\n",
       "      <td>187302</td>\n",
       "      <td>Bata</td>\n",
       "      <td>250770</td>\n",
       "      <td>1.34</td>\n",
       "      <td>The capital Malabo is the second largest city ...</td>\n",
       "    </tr>\n",
       "    <tr>\n",
       "      <th>12</th>\n",
       "      <td>India</td>\n",
       "      <td>New Delhi</td>\n",
       "      <td>249998</td>\n",
       "      <td>Mumbai</td>\n",
       "      <td>12442373</td>\n",
       "      <td>49.77</td>\n",
       "      <td>New Delhi is part of the Delhi metropolitan ar...</td>\n",
       "    </tr>\n",
       "    <tr>\n",
       "      <th>13</th>\n",
       "      <td>Kazakhstan</td>\n",
       "      <td>Astana</td>\n",
       "      <td>743014</td>\n",
       "      <td>Almaty</td>\n",
       "      <td>1450095</td>\n",
       "      <td>1.95</td>\n",
       "      <td>Almaty was the capital from 1927 to 1997.</td>\n",
       "    </tr>\n",
       "    <tr>\n",
       "      <th>14</th>\n",
       "      <td>Liechtenstein</td>\n",
       "      <td>Vaduz</td>\n",
       "      <td>5109</td>\n",
       "      <td>Schaan</td>\n",
       "      <td>5806</td>\n",
       "      <td>1.14</td>\n",
       "      <td>Both cities are part of the same metropolitan ...</td>\n",
       "    </tr>\n",
       "    <tr>\n",
       "      <th>15</th>\n",
       "      <td>Malta</td>\n",
       "      <td>Valletta</td>\n",
       "      <td>6000</td>\n",
       "      <td>Birkirkara</td>\n",
       "      <td>21000</td>\n",
       "      <td>3.5</td>\n",
       "      <td>Both cities are part of the same metropolitan ...</td>\n",
       "    </tr>\n",
       "    <tr>\n",
       "      <th>16</th>\n",
       "      <td>Federated States of Micronesia</td>\n",
       "      <td>Palikir</td>\n",
       "      <td>5000</td>\n",
       "      <td>Weno</td>\n",
       "      <td>13000</td>\n",
       "      <td>1.4</td>\n",
       "      <td>Palikir is the second largest city of Micronesia.</td>\n",
       "    </tr>\n",
       "    <tr>\n",
       "      <th>17</th>\n",
       "      <td>Morocco</td>\n",
       "      <td>Rabat</td>\n",
       "      <td>627000</td>\n",
       "      <td>Casablanca</td>\n",
       "      <td>4150000</td>\n",
       "      <td>6.62</td>\n",
       "      <td>Rabat is the second largest city of Morocco.</td>\n",
       "    </tr>\n",
       "    <tr>\n",
       "      <th>18</th>\n",
       "      <td>Myanmar</td>\n",
       "      <td>Naypyidaw</td>\n",
       "      <td>925000</td>\n",
       "      <td>Yangon</td>\n",
       "      <td>4346000</td>\n",
       "      <td>4.7</td>\n",
       "      <td>Yangon was the capital until 2006. Naypyidaw i...</td>\n",
       "    </tr>\n",
       "    <tr>\n",
       "      <th>19</th>\n",
       "      <td>New Zealand</td>\n",
       "      <td>Wellington</td>\n",
       "      <td>412500</td>\n",
       "      <td>Auckland</td>\n",
       "      <td>1534700</td>\n",
       "      <td>3.72</td>\n",
       "      <td>Auckland was the capital 1841–1865, and Russel...</td>\n",
       "    </tr>\n",
       "    <tr>\n",
       "      <th>20</th>\n",
       "      <td>Nigeria</td>\n",
       "      <td>Abuja</td>\n",
       "      <td>778567</td>\n",
       "      <td>Lagos</td>\n",
       "      <td>7937932</td>\n",
       "      <td>10.2</td>\n",
       "      <td>Lagos was the capital until 1991.</td>\n",
       "    </tr>\n",
       "    <tr>\n",
       "      <th>21</th>\n",
       "      <td>Pakistan</td>\n",
       "      <td>Islamabad</td>\n",
       "      <td>1740000</td>\n",
       "      <td>Karachi</td>\n",
       "      <td>24300000</td>\n",
       "      <td>13.97</td>\n",
       "      <td>Karachi was the capital from 1947 to 1958. Isl...</td>\n",
       "    </tr>\n",
       "    <tr>\n",
       "      <th>22</th>\n",
       "      <td>Palau</td>\n",
       "      <td>Ngerulmud</td>\n",
       "      <td>271</td>\n",
       "      <td>Koror</td>\n",
       "      <td>11200</td>\n",
       "      <td>41.32</td>\n",
       "      <td>Koror was the capital until 2006.</td>\n",
       "    </tr>\n",
       "    <tr>\n",
       "      <th>23</th>\n",
       "      <td>Philippines</td>\n",
       "      <td>Manila</td>\n",
       "      <td>1780148</td>\n",
       "      <td>Quezon City</td>\n",
       "      <td>2936116</td>\n",
       "      <td>1.67</td>\n",
       "      <td>Quezon City was the capital from 1948 until 19...</td>\n",
       "    </tr>\n",
       "    <tr>\n",
       "      <th>24</th>\n",
       "      <td>San Marino</td>\n",
       "      <td>San Marino</td>\n",
       "      <td>4211</td>\n",
       "      <td>Serravalle</td>\n",
       "      <td>10601</td>\n",
       "      <td>2.52</td>\n",
       "      <td>NaN</td>\n",
       "    </tr>\n",
       "    <tr>\n",
       "      <th>25</th>\n",
       "      <td>South Africa</td>\n",
       "      <td>Pretoria</td>\n",
       "      <td>2345908</td>\n",
       "      <td>Johannesburg</td>\n",
       "      <td>3888180</td>\n",
       "      <td>1.66</td>\n",
       "      <td>Cape Town (pop. 3.5 mln) and Bloemfontein (pop...</td>\n",
       "    </tr>\n",
       "    <tr>\n",
       "      <th>26</th>\n",
       "      <td>Sudan</td>\n",
       "      <td>Khartoum</td>\n",
       "      <td>2,207,794[citation needed]</td>\n",
       "      <td>Omdurman</td>\n",
       "      <td>2395159</td>\n",
       "      <td>1.08</td>\n",
       "      <td>Wikipedia articles on Khartoum and Omdurman co...</td>\n",
       "    </tr>\n",
       "    <tr>\n",
       "      <th>27</th>\n",
       "      <td>Sri Lanka</td>\n",
       "      <td>Sri Jayawardenepura Kotte</td>\n",
       "      <td>115826</td>\n",
       "      <td>Colombo</td>\n",
       "      <td>642163</td>\n",
       "      <td>5.54</td>\n",
       "      <td>Colombo was the capital until 1982.</td>\n",
       "    </tr>\n",
       "    <tr>\n",
       "      <th>28</th>\n",
       "      <td>Switzerland</td>\n",
       "      <td>Bern</td>\n",
       "      <td>138041</td>\n",
       "      <td>Zürich</td>\n",
       "      <td>397698</td>\n",
       "      <td>2.88</td>\n",
       "      <td>Switzerland in its nature as a country with in...</td>\n",
       "    </tr>\n",
       "    <tr>\n",
       "      <th>29</th>\n",
       "      <td>Tanzania</td>\n",
       "      <td>Dodoma</td>\n",
       "      <td>324347</td>\n",
       "      <td>Dar es Salaam</td>\n",
       "      <td>2497940</td>\n",
       "      <td>7.70</td>\n",
       "      <td>Dar es Salaam was the capital until 1974.</td>\n",
       "    </tr>\n",
       "    <tr>\n",
       "      <th>30</th>\n",
       "      <td>Trinidad and Tobago</td>\n",
       "      <td>Port of Spain</td>\n",
       "      <td>49000</td>\n",
       "      <td>Chaguanas</td>\n",
       "      <td>67400</td>\n",
       "      <td>1.37</td>\n",
       "      <td>Both cities are part of the same metropolitan ...</td>\n",
       "    </tr>\n",
       "    <tr>\n",
       "      <th>31</th>\n",
       "      <td>Turkey</td>\n",
       "      <td>Ankara</td>\n",
       "      <td>5150072</td>\n",
       "      <td>Istanbul</td>\n",
       "      <td>14377018</td>\n",
       "      <td>3.4</td>\n",
       "      <td>Istanbul was the capital of the Ottoman Empire...</td>\n",
       "    </tr>\n",
       "    <tr>\n",
       "      <th>32</th>\n",
       "      <td>United Arab Emirates</td>\n",
       "      <td>Abu Dhabi</td>\n",
       "      <td>896751</td>\n",
       "      <td>Dubai</td>\n",
       "      <td>2262000</td>\n",
       "      <td>2.52</td>\n",
       "      <td>Abu Dhabi is the second largest city of United...</td>\n",
       "    </tr>\n",
       "    <tr>\n",
       "      <th>33</th>\n",
       "      <td>United States</td>\n",
       "      <td>Washington, D.C.</td>\n",
       "      <td>672228</td>\n",
       "      <td>New York City</td>\n",
       "      <td>8550405</td>\n",
       "      <td>12.72</td>\n",
       "      <td>New York was the capital 1785–1790 and the lar...</td>\n",
       "    </tr>\n",
       "    <tr>\n",
       "      <th>34</th>\n",
       "      <td>Vietnam</td>\n",
       "      <td>Hanoi</td>\n",
       "      <td>6500000</td>\n",
       "      <td>Ho Chi Minh City</td>\n",
       "      <td>7123340</td>\n",
       "      <td>1.1</td>\n",
       "      <td>Ho Chi Minh City, formerly Saigon, was the cap...</td>\n",
       "    </tr>\n",
       "  </tbody>\n",
       "</table>\n",
       "</div>"
      ],
      "text/plain": [
       "                                 0                          1  \\\n",
       "0                          Country                    Capital   \n",
       "1                        Australia                   Canberra   \n",
       "2                           Belize                   Belmopan   \n",
       "3                            Benin                 Porto-Novo   \n",
       "4                          Bolivia                      Sucre   \n",
       "5                           Brazil                   Brasília   \n",
       "6                         Cameroon                    Yaoundé   \n",
       "7                           Canada                     Ottawa   \n",
       "8                            China                    Beijing   \n",
       "9                    Côte d'Ivoire               Yamoussoukro   \n",
       "10                         Ecuador                      Quito   \n",
       "11               Equatorial Guinea                     Malabo   \n",
       "12                           India                  New Delhi   \n",
       "13                      Kazakhstan                     Astana   \n",
       "14                   Liechtenstein                      Vaduz   \n",
       "15                           Malta                   Valletta   \n",
       "16  Federated States of Micronesia                    Palikir   \n",
       "17                         Morocco                      Rabat   \n",
       "18                         Myanmar                  Naypyidaw   \n",
       "19                     New Zealand                 Wellington   \n",
       "20                         Nigeria                      Abuja   \n",
       "21                        Pakistan                  Islamabad   \n",
       "22                           Palau                  Ngerulmud   \n",
       "23                     Philippines                     Manila   \n",
       "24                      San Marino                 San Marino   \n",
       "25                    South Africa                   Pretoria   \n",
       "26                           Sudan                   Khartoum   \n",
       "27                       Sri Lanka  Sri Jayawardenepura Kotte   \n",
       "28                     Switzerland                       Bern   \n",
       "29                        Tanzania                     Dodoma   \n",
       "30             Trinidad and Tobago              Port of Spain   \n",
       "31                          Turkey                     Ankara   \n",
       "32            United Arab Emirates                  Abu Dhabi   \n",
       "33                   United States           Washington, D.C.   \n",
       "34                         Vietnam                      Hanoi   \n",
       "\n",
       "                             2                             3            4  \\\n",
       "0                   Population                  Largest city   Population   \n",
       "1                       390706                        Sydney      4921000   \n",
       "2                        16400                   Belize City        70000   \n",
       "3                       223500                       Cotonou       761100   \n",
       "4                       259388  Santa Cruz de la Sierra[252]      1453549   \n",
       "5                      2557158                     São Paulo     11150249   \n",
       "6                      1430000                        Douala  2,000,000 +   \n",
       "7                       812129                       Toronto      2503281   \n",
       "8                     22000000                      Shanghai     34000000   \n",
       "9                       200659                       Abidjan      4348000   \n",
       "10                     1397698                     Guayaquil      2600000   \n",
       "11                      187302                          Bata       250770   \n",
       "12                      249998                        Mumbai     12442373   \n",
       "13                      743014                        Almaty      1450095   \n",
       "14                        5109                        Schaan         5806   \n",
       "15                        6000                    Birkirkara        21000   \n",
       "16                        5000                          Weno        13000   \n",
       "17                      627000                    Casablanca      4150000   \n",
       "18                      925000                        Yangon      4346000   \n",
       "19                      412500                      Auckland      1534700   \n",
       "20                      778567                         Lagos      7937932   \n",
       "21                     1740000                       Karachi     24300000   \n",
       "22                         271                         Koror        11200   \n",
       "23                     1780148                   Quezon City      2936116   \n",
       "24                        4211                    Serravalle        10601   \n",
       "25                     2345908                  Johannesburg      3888180   \n",
       "26  2,207,794[citation needed]                      Omdurman      2395159   \n",
       "27                      115826                       Colombo       642163   \n",
       "28                      138041                        Zürich       397698   \n",
       "29                      324347                 Dar es Salaam      2497940   \n",
       "30                       49000                     Chaguanas        67400   \n",
       "31                     5150072                      Istanbul     14377018   \n",
       "32                      896751                         Dubai      2262000   \n",
       "33                      672228                 New York City      8550405   \n",
       "34                     6500000              Ho Chi Minh City      7123340   \n",
       "\n",
       "        5                                                  6  \n",
       "0   Ratio                                               Note  \n",
       "1    12.6  Although Canberra has been Australia's Capital...  \n",
       "2    4.27            Belize City was the capital until 1970.  \n",
       "3     3.4  Cotonou is the de facto capital with seat of g...  \n",
       "4     7.1  La Paz is the de facto capital with seat of go...  \n",
       "5    4.55  Brasília is a planned city, inaugurated in 196...  \n",
       "6     1.4    Yaoundé is the second largest city of Cameroon.  \n",
       "7    3.08  Toronto was the capital of the united Province...  \n",
       "8    1.55  Beijing is the second largest city of China by...  \n",
       "9    21.7                Abidjan was the capital until 1983.  \n",
       "10   1.86       Quito is the second largest city of Ecuador.  \n",
       "11   1.34  The capital Malabo is the second largest city ...  \n",
       "12  49.77  New Delhi is part of the Delhi metropolitan ar...  \n",
       "13   1.95          Almaty was the capital from 1927 to 1997.  \n",
       "14   1.14  Both cities are part of the same metropolitan ...  \n",
       "15    3.5  Both cities are part of the same metropolitan ...  \n",
       "16    1.4  Palikir is the second largest city of Micronesia.  \n",
       "17   6.62       Rabat is the second largest city of Morocco.  \n",
       "18    4.7  Yangon was the capital until 2006. Naypyidaw i...  \n",
       "19   3.72  Auckland was the capital 1841–1865, and Russel...  \n",
       "20   10.2                  Lagos was the capital until 1991.  \n",
       "21  13.97  Karachi was the capital from 1947 to 1958. Isl...  \n",
       "22  41.32                  Koror was the capital until 2006.  \n",
       "23   1.67  Quezon City was the capital from 1948 until 19...  \n",
       "24   2.52                                                NaN  \n",
       "25   1.66  Cape Town (pop. 3.5 mln) and Bloemfontein (pop...  \n",
       "26   1.08  Wikipedia articles on Khartoum and Omdurman co...  \n",
       "27   5.54                Colombo was the capital until 1982.  \n",
       "28   2.88  Switzerland in its nature as a country with in...  \n",
       "29   7.70          Dar es Salaam was the capital until 1974.  \n",
       "30   1.37  Both cities are part of the same metropolitan ...  \n",
       "31    3.4  Istanbul was the capital of the Ottoman Empire...  \n",
       "32   2.52  Abu Dhabi is the second largest city of United...  \n",
       "33  12.72  New York was the capital 1785–1790 and the lar...  \n",
       "34    1.1  Ho Chi Minh City, formerly Saigon, was the cap...  "
      ]
     },
     "execution_count": 28,
     "metadata": {},
     "output_type": "execute_result"
    }
   ],
   "source": [
    "wiki[2]"
   ]
  },
  {
   "cell_type": "code",
   "execution_count": 29,
   "metadata": {},
   "outputs": [],
   "source": [
    "import numpy as np"
   ]
  },
  {
   "cell_type": "code",
   "execution_count": 30,
   "metadata": {},
   "outputs": [],
   "source": [
    "A = np.random.randn(5)"
   ]
  },
  {
   "cell_type": "code",
   "execution_count": 31,
   "metadata": {},
   "outputs": [
    {
     "data": {
      "text/plain": [
       "array([-1.33713852,  0.56135104,  0.23486444, -2.19816757, -0.35958402])"
      ]
     },
     "execution_count": 31,
     "metadata": {},
     "output_type": "execute_result"
    }
   ],
   "source": [
    "A"
   ]
  },
  {
   "cell_type": "code",
   "execution_count": 32,
   "metadata": {},
   "outputs": [
    {
     "data": {
      "text/plain": [
       "array([ 1.1090866 ,  1.20859485, -0.81633025,  0.71435789, -1.94434494])"
      ]
     },
     "execution_count": 32,
     "metadata": {},
     "output_type": "execute_result"
    }
   ],
   "source": [
    "B = np.random.randn(5)\n",
    "B"
   ]
  },
  {
   "cell_type": "code",
   "execution_count": 33,
   "metadata": {},
   "outputs": [
    {
     "data": {
      "text/plain": [
       "array([ 1.1090866 ,  1.20859485,  0.23486444,  0.71435789, -0.35958402])"
      ]
     },
     "execution_count": 33,
     "metadata": {},
     "output_type": "execute_result"
    }
   ],
   "source": [
    "np.maximum(A,B)"
   ]
  },
  {
   "cell_type": "code",
   "execution_count": null,
   "metadata": {},
   "outputs": [],
   "source": [
    "website = \"http://docs.scipy.org/doc/numpy/reference/ufuncs.html#available-ufuncs\""
   ]
  },
  {
   "cell_type": "code",
   "execution_count": null,
   "metadata": {},
   "outputs": [],
   "source": [
    "import webbrowser"
   ]
  },
  {
   "cell_type": "code",
   "execution_count": null,
   "metadata": {},
   "outputs": [],
   "source": [
    "webbrowser.open(website)"
   ]
  },
  {
   "cell_type": "code",
   "execution_count": 34,
   "metadata": {},
   "outputs": [],
   "source": [
    "import numpy as np"
   ]
  },
  {
   "cell_type": "code",
   "execution_count": 35,
   "metadata": {},
   "outputs": [],
   "source": [
    "arr = np.arange(-5, 5, 0.01)"
   ]
  },
  {
   "cell_type": "code",
   "execution_count": 36,
   "metadata": {},
   "outputs": [],
   "source": [
    "dx, dy = np.meshgrid(arr, arr)"
   ]
  },
  {
   "cell_type": "code",
   "execution_count": 37,
   "metadata": {},
   "outputs": [],
   "source": [
    "z = (np.sin(dx) + np.sin(dy))"
   ]
  },
  {
   "cell_type": "code",
   "execution_count": 38,
   "metadata": {},
   "outputs": [],
   "source": [
    "import matplotlib.pyplot as plt\n",
    "%matplotlib inline"
   ]
  },
  {
   "cell_type": "code",
   "execution_count": 39,
   "metadata": {},
   "outputs": [
    {
     "data": {
      "text/plain": [
       "Text(0.5,1,'z = sinx + siny')"
      ]
     },
     "execution_count": 39,
     "metadata": {},
     "output_type": "execute_result"
    },
    {
     "data": {
      "image/png": "[encoded data removed]",
      "text/plain": [
       "<Figure size 432x288 with 2 Axes>"
      ]
     },
     "metadata": {},
     "output_type": "display_data"
    }
   ],
   "source": [
    "plt.imshow(z)\n",
    "plt.colorbar()\n",
    "plt.title(\"z = sinx + siny\")"
   ]
  },
  {
   "cell_type": "code",
   "execution_count": 40,
   "metadata": {},
   "outputs": [],
   "source": [
    "np.save(\"function\", z)"
   ]
  },
  {
   "cell_type": "code",
   "execution_count": 41,
   "metadata": {},
   "outputs": [],
   "source": [
    "load = np.load(\"function.npy\")"
   ]
  },
  {
   "cell_type": "code",
   "execution_count": 42,
   "metadata": {},
   "outputs": [
    {
     "data": {
      "text/plain": [
       "array([[ 1.91784855e+00,  1.92063718e+00,  1.92332964e+00, ...,\n",
       "        -8.07710558e-03, -5.48108704e-03, -2.78862876e-03],\n",
       "       [ 1.92063718e+00,  1.92342581e+00,  1.92611827e+00, ...,\n",
       "        -5.28847682e-03, -2.69245827e-03, -5.85087534e-14],\n",
       "       [ 1.92332964e+00,  1.92611827e+00,  1.92881072e+00, ...,\n",
       "        -2.59601854e-03, -5.63993297e-14,  2.69245827e-03],\n",
       "       ...,\n",
       "       [-8.07710558e-03, -5.28847682e-03, -2.59601854e-03, ...,\n",
       "        -1.93400276e+00, -1.93140674e+00, -1.92871428e+00],\n",
       "       [-5.48108704e-03, -2.69245827e-03, -5.63993297e-14, ...,\n",
       "        -1.93140674e+00, -1.92881072e+00, -1.92611827e+00],\n",
       "       [-2.78862876e-03, -5.85087534e-14,  2.69245827e-03, ...,\n",
       "        -1.92871428e+00, -1.92611827e+00, -1.92342581e+00]])"
      ]
     },
     "execution_count": 42,
     "metadata": {},
     "output_type": "execute_result"
    }
   ],
   "source": [
    "load"
   ]
  },
  {
   "cell_type": "code",
   "execution_count": 43,
   "metadata": {},
   "outputs": [],
   "source": [
    "import numpy as np\n",
    "from pandas import Series, DataFrame\n",
    "import pandas as pd\n",
    "import lxml"
   ]
  },
  {
   "cell_type": "code",
   "execution_count": 44,
   "metadata": {},
   "outputs": [
    {
     "data": {
      "text/plain": [
       "True"
      ]
     },
     "execution_count": 44,
     "metadata": {},
     "output_type": "execute_result"
    }
   ],
   "source": [
    "import webbrowser\n",
    "website = 'http://en.wikipedia.org/wiki/NFL_win-loss_records'\n",
    "webbrowser.open(website)"
   ]
  },
  {
   "cell_type": "code",
   "execution_count": null,
   "metadata": {},
   "outputs": [],
   "source": [
    "nfl_frame = pd.io.html.read_html(website)[1]"
   ]
  },
  {
   "cell_type": "code",
   "execution_count": null,
   "metadata": {},
   "outputs": [],
   "source": [
    "nfl_frame.head()"
   ]
  },
  {
   "cell_type": "code",
   "execution_count": null,
   "metadata": {},
   "outputs": [],
   "source": [
    "nfl_frame.columns"
   ]
  },
  {
   "cell_type": "code",
   "execution_count": 69,
   "metadata": {},
   "outputs": [],
   "source": [
    "import numpy as np\n",
    "from matplotlib import pyplot as plt\n",
    "%matplotlib inline\n",
    "import random"
   ]
  },
  {
   "cell_type": "raw",
   "metadata": {},
   "source": [
    "Evolutionary Algorithm"
   ]
  },
  {
   "cell_type": "code",
   "execution_count": 70,
   "metadata": {},
   "outputs": [],
   "source": [
    "Dn = 20"
   ]
  },
  {
   "cell_type": "code",
   "execution_count": 71,
   "metadata": {},
   "outputs": [],
   "source": [
    "M = 0.1"
   ]
  },
  {
   "cell_type": "code",
   "execution_count": 72,
   "metadata": {},
   "outputs": [],
   "source": [
    "NP = 500"
   ]
  },
  {
   "cell_type": "code",
   "execution_count": 73,
   "metadata": {},
   "outputs": [],
   "source": [
    "G = 200"
   ]
  },
  {
   "cell_type": "code",
   "execution_count": 88,
   "metadata": {},
   "outputs": [],
   "source": [
    "r = np.random.random(Dn)\n",
    "def f(x):\n",
    "    return ((x-r)**2).sum()"
   ]
  },
  {
   "cell_type": "code",
   "execution_count": 75,
   "metadata": {},
   "outputs": [
    {
     "name": "stdout",
     "output_type": "stream",
     "text": [
      "[0.58323141 0.34087815 0.81280875 0.24233237 0.91602652 0.86676073\n",
      " 0.0232908  0.24725254 0.18496476 0.23494184 0.19456488 0.94232387\n",
      " 0.3227208  0.13625937 0.5473151  0.84727373 0.32363548 0.18890402\n",
      " 0.91727538 0.3485627 ]\n"
     ]
    }
   ],
   "source": [
    "print(r)"
   ]
  },
  {
   "cell_type": "code",
   "execution_count": 76,
   "metadata": {},
   "outputs": [
    {
     "name": "stdout",
     "output_type": "stream",
     "text": [
      "500\n"
     ]
    }
   ],
   "source": [
    "pop = []\n",
    "\n",
    "for ix in range(NP):\n",
    "    # generate a random vector\n",
    "    vec = np.random.uniform(-10, 10, (Dn,))\n",
    "    \n",
    "    # Add to population\n",
    "    pop.append(vec)\n",
    "\n",
    "print( len(pop))"
   ]
  },
  {
   "cell_type": "code",
   "execution_count": 77,
   "metadata": {},
   "outputs": [
    {
     "data": {
      "text/plain": [
       "500"
      ]
     },
     "execution_count": 77,
     "metadata": {},
     "output_type": "execute_result"
    }
   ],
   "source": [
    "len(pop)"
   ]
  },
  {
   "cell_type": "code",
   "execution_count": 81,
   "metadata": {},
   "outputs": [],
   "source": [
    "loss_func = f(pop)"
   ]
  },
  {
   "cell_type": "code",
   "execution_count": 82,
   "metadata": {},
   "outputs": [
    {
     "data": {
      "text/plain": [
       "500"
      ]
     },
     "execution_count": 82,
     "metadata": {},
     "output_type": "execute_result"
    }
   ],
   "source": [
    "len(loss_func)"
   ]
  },
  {
   "cell_type": "code",
   "execution_count": 96,
   "metadata": {},
   "outputs": [],
   "source": [
    "def crossover(parent1, parent2):\n",
    "    \n",
    "    dim = int(len(parent1)/2.0)\n",
    "    child1 = []\n",
    "    child2 =[]\n",
    "    \n",
    "    child1[:dim] = parent1[:dim]\n",
    "    child1[dim:] = parent2[dim:]\n",
    "    \n",
    "    child2[:dim] = parent2[:dim]\n",
    "    child2[dim:] = parent1[dim:]\n",
    "    \n",
    "    return child1, child2"
   ]
  },
  {
   "cell_type": "code",
   "execution_count": 99,
   "metadata": {},
   "outputs": [],
   "source": [
    "def mutate(x):\n",
    "    \n",
    "    for ix in range(len(x)):\n",
    "        \n",
    "        R = np.random.random\n",
    "        \n",
    "        if R<M:\n",
    "            x[ix] = np.random.uniform(-5, 5)\n",
    "        else:\n",
    "            pass\n",
    "    return x"
   ]
  },
  {
   "cell_type": "code",
   "execution_count": 100,
   "metadata": {},
   "outputs": [
    {
     "name": "stdout",
     "output_type": "stream",
     "text": [
      "Generation: 0 | Best Value: 283.7710766396568\n"
     ]
    },
    {
     "ename": "TypeError",
     "evalue": "'<' not supported between instances of 'builtin_function_or_method' and 'float'",
     "output_type": "error",
     "traceback": [
      "\u001b[0;31m---------------------------------------------------------------------------\u001b[0m",
      "\u001b[0;31mTypeError\u001b[0m                                 Traceback (most recent call last)",
      "\u001b[0;32m<ipython-input-100-41cae1a8c06a>\u001b[0m in \u001b[0;36m<module>\u001b[0;34m()\u001b[0m\n\u001b[1;32m     21\u001b[0m \u001b[0;34m\u001b[0m\u001b[0m\n\u001b[1;32m     22\u001b[0m         \u001b[0;31m# mutate\u001b[0m\u001b[0;34m\u001b[0m\u001b[0;34m\u001b[0m\u001b[0m\n\u001b[0;32m---> 23\u001b[0;31m         \u001b[0mc1\u001b[0m \u001b[0;34m=\u001b[0m \u001b[0mmutate\u001b[0m\u001b[0;34m(\u001b[0m\u001b[0mc1\u001b[0m\u001b[0;34m)\u001b[0m\u001b[0;34m\u001b[0m\u001b[0m\n\u001b[0m\u001b[1;32m     24\u001b[0m         \u001b[0mc2\u001b[0m \u001b[0;34m=\u001b[0m \u001b[0mmutate\u001b[0m\u001b[0;34m(\u001b[0m\u001b[0mc2\u001b[0m\u001b[0;34m)\u001b[0m\u001b[0;34m\u001b[0m\u001b[0m\n\u001b[1;32m     25\u001b[0m \u001b[0;34m\u001b[0m\u001b[0m\n",
      "\u001b[0;32m<ipython-input-99-cbd1e73c0002>\u001b[0m in \u001b[0;36mmutate\u001b[0;34m(x)\u001b[0m\n\u001b[1;32m      5\u001b[0m         \u001b[0mR\u001b[0m \u001b[0;34m=\u001b[0m \u001b[0mnp\u001b[0m\u001b[0;34m.\u001b[0m\u001b[0mrandom\u001b[0m\u001b[0;34m.\u001b[0m\u001b[0mrandom\u001b[0m\u001b[0;34m\u001b[0m\u001b[0m\n\u001b[1;32m      6\u001b[0m \u001b[0;34m\u001b[0m\u001b[0m\n\u001b[0;32m----> 7\u001b[0;31m         \u001b[0;32mif\u001b[0m \u001b[0mR\u001b[0m\u001b[0;34m<\u001b[0m\u001b[0mM\u001b[0m\u001b[0;34m:\u001b[0m\u001b[0;34m\u001b[0m\u001b[0m\n\u001b[0m\u001b[1;32m      8\u001b[0m             \u001b[0mx\u001b[0m\u001b[0;34m[\u001b[0m\u001b[0mix\u001b[0m\u001b[0;34m]\u001b[0m \u001b[0;34m=\u001b[0m \u001b[0mnp\u001b[0m\u001b[0;34m.\u001b[0m\u001b[0mrandom\u001b[0m\u001b[0;34m.\u001b[0m\u001b[0muniform\u001b[0m\u001b[0;34m(\u001b[0m\u001b[0;34m-\u001b[0m\u001b[0;36m5\u001b[0m\u001b[0;34m,\u001b[0m \u001b[0;36m5\u001b[0m\u001b[0;34m)\u001b[0m\u001b[0;34m\u001b[0m\u001b[0m\n\u001b[1;32m      9\u001b[0m         \u001b[0;32melse\u001b[0m\u001b[0;34m:\u001b[0m\u001b[0;34m\u001b[0m\u001b[0m\n",
      "\u001b[0;31mTypeError\u001b[0m: '<' not supported between instances of 'builtin_function_or_method' and 'float'"
     ]
    }
   ],
   "source": [
    "loss = []\n",
    "\n",
    "# Main Genetic Algo loop\n",
    "for gx in range(2):\n",
    "    pop = sorted(pop, key=lambda z: f(z))\n",
    "    print (\"Generation: {} | Best Value: {}\".format(gx, f(pop[0])))\n",
    "    loss.append(f(pop[0]))\n",
    "    \n",
    "    # create a temp population\n",
    "    temp = []\n",
    "    \n",
    "    while not len(temp) == NP:\n",
    "        # Select 2 parents from good section of population\n",
    "        p1, p2 = random.sample(pop[:int(NP/2.0)], 2)\n",
    "        #print ('p1:', p1)\n",
    "        #p1 = int(p1)\n",
    "        #p2 = int(p2)\n",
    "        \n",
    "        # Apply crossover\n",
    "        c1, c2 = crossover(p1, p2)\n",
    "        \n",
    "        # mutate\n",
    "        c1 = mutate(c1)\n",
    "        c2 = mutate(c2)\n",
    "        \n",
    "        temp.append(c1)\n",
    "        temp.append(c2)\n",
    "    \n",
    "    # create a combined population\n",
    "    comb = temp + pop\n",
    "    \n",
    "    # survival of the fittest\n",
    "    pop = sorted(comb, key=lambda z: f(z))[:NP]"
   ]
  },
  {
   "cell_type": "code",
   "execution_count": null,
   "metadata": {},
   "outputs": [],
   "source": []
  },
  {
   "cell_type": "code",
   "execution_count": null,
   "metadata": {},
   "outputs": [],
   "source": []
  }
 ],
 "metadata": {
  "kernelspec": {
   "display_name": "Python 3",
   "language": "python",
   "name": "python3"
  },
  "language_info": {
   "codemirror_mode": {
    "name": "ipython",
    "version": 3
   },
   "file_extension": ".py",
   "mimetype": "text/x-python",
   "name": "python",
   "nbconvert_exporter": "python",
   "pygments_lexer": "ipython3",
   "version": "3.6.5"
  }
 },
 "nbformat": 4,
 "nbformat_minor": 2
}
