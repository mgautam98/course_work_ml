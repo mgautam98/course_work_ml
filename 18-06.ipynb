{
 "cells": [
  {
   "cell_type": "markdown",
   "metadata": {},
   "source": [
    "Define a function so thath it generates ABC with probablity .3,.2and .5"
   ]
  },
  {
   "cell_type": "code",
   "execution_count": 1,
   "metadata": {},
   "outputs": [],
   "source": [
    "import numpy as np\n",
    "from matplotlib import pyplot as plt\n",
    "%matplotlib inline\n",
    "import pandas as pd\n",
    "import cv2"
   ]
  },
  {
   "cell_type": "code",
   "execution_count": 2,
   "metadata": {},
   "outputs": [],
   "source": [
    "def generate_random():\n",
    "    r = np.random.random()\n",
    "    if r<.3:\n",
    "        return 'A'\n",
    "    elif r >.3 and r <.5:\n",
    "        return 'B'\n",
    "    else :\n",
    "        return 'C'"
   ]
  },
  {
   "cell_type": "code",
   "execution_count": 9,
   "metadata": {},
   "outputs": [],
   "source": [
    "m1 = np.array([0., 15.])\n",
    "m2 = np.array([3., .5])\n",
    "m3 = np.array([9., 9])\n",
    "cov = np.array([[5.0,0.0],\n",
    "                [0.0, 3.0]])\n",
    "d1 = np.random.multivariate_normal(m1, cov, 250)\n",
    "d2 = np.random.multivariate_normal(m2, cov, 100)\n",
    "d3 = np.random.multivariate_normal(m3, cov, 250)"
   ]
  },
  {
   "cell_type": "code",
   "execution_count": 10,
   "metadata": {},
   "outputs": [
    {
     "data": {
      "image/png": "[encoded data removed]",
      "text/plain": [
       "<matplotlib.figure.Figure at 0x7f491c715750>"
      ]
     },
     "metadata": {},
     "output_type": "display_data"
    }
   ],
   "source": [
    "plt.figure(0)\n",
    "plt.grid(\"on\")\n",
    "plt.scatter(d1[:, 0], d1[:, 1], color='green')\n",
    "#plt.scatter(d2[:, 0], d2[:, 1])\n",
    "plt.scatter(d3[:, 0], d3[:, 1], color='red')\n",
    "plt.show()"
   ]
  },
  {
   "cell_type": "code",
   "execution_count": 8,
   "metadata": {},
   "outputs": [
    {
     "name": "stdout",
     "output_type": "stream",
     "text": [
      "(500, 2)\n"
     ]
    }
   ],
   "source": [
    "data_X = np.concatenate((d1, d3), axis = 0)\n",
    "print data_X.shape"
   ]
  },
  {
   "cell_type": "code",
   "execution_count": 9,
   "metadata": {},
   "outputs": [],
   "source": [
    "data_y = np.zeros((500,1))\n",
    "data_y[250:0] = 1\n",
    "data = np.concatenate((data_X, data_y), axis=1)\n",
    "#einstein summation"
   ]
  },
  {
   "cell_type": "code",
   "execution_count": 10,
   "metadata": {},
   "outputs": [],
   "source": [
    "#K-NN\n",
    "def distance(v1, v2):\n",
    "    return np.sqrt(((v1-v2)**2).sum())\n",
    "\n",
    "def knn(train, test, k=3):\n",
    "    dist = []\n",
    "    \n",
    "    for i in range(train.shape[0]):\n",
    "        #get the labels\n",
    "        ix = train[i, :2]\n",
    "        iy = train[i, -1]\n",
    "        #compute the distance from test points\n",
    "        d = distance(test, ix)\n",
    "        dist.append([d, iy])\n",
    "        #sort based on distance and gget top k\n",
    "        dk = sorted(dist, key = lambda x: x[0])[:k]\n",
    "        #retrive only the labels \n",
    "        labels = np.array(dk)[:, -1]\n",
    "        \n",
    "        #Get frequencies of each label\n",
    "        output = np.unique(labels, return_counts=True)\n",
    "        index = np.argmax(output[1])\n",
    "        return output[0][index]"
   ]
  },
  {
   "cell_type": "code",
   "execution_count": 11,
   "metadata": {},
   "outputs": [],
   "source": [
    "from sklearn.datasets import load_digits"
   ]
  },
  {
   "cell_type": "code",
   "execution_count": 12,
   "metadata": {},
   "outputs": [
    {
     "name": "stdout",
     "output_type": "stream",
     "text": [
      "0.0\n"
     ]
    }
   ],
   "source": [
    "x = np.array([5.0, 11.0])\n",
    "print knn(data, x, k=5)"
   ]
  },
  {
   "cell_type": "code",
   "execution_count": 35,
   "metadata": {},
   "outputs": [
    {
     "name": "stdout",
     "output_type": "stream",
     "text": [
      "(1797, 64)\n",
      "(1797,)\n"
     ]
    }
   ],
   "source": [
    "data = load_digits(return_X_y=True)\n",
    "X = data[0]\n",
    "y = data[1]\n",
    "print X.shape\n",
    "print y.shape"
   ]
  },
  {
   "cell_type": "code",
   "execution_count": 36,
   "metadata": {},
   "outputs": [
    {
     "data": {
      "image/png": "[encoded data removed]",
      "text/plain": [
       "<matplotlib.figure.Figure at 0x7f01d9e4f6d0>"
      ]
     },
     "metadata": {},
     "output_type": "display_data"
    }
   ],
   "source": [
    "plt.figure(0, figsize=(2, 2))\n",
    "plt.imshow(X[0].reshape((8, 8)), cmap='gray')\n",
    "plt.show()"
   ]
  },
  {
   "cell_type": "code",
   "execution_count": 39,
   "metadata": {},
   "outputs": [
    {
     "name": "stdout",
     "output_type": "stream",
     "text": [
      "(1797, 65)\n"
     ]
    }
   ],
   "source": [
    "ds = np.concatenate((X, y.reshape(-1, 1)), axis=1)\n",
    "print ds.shape"
   ]
  },
  {
   "cell_type": "markdown",
   "metadata": {},
   "source": [
    "study about humming function, Norm =|| ||, \n",
    "Problem Statement: "
   ]
  },
  {
   "cell_type": "code",
   "execution_count": null,
   "metadata": {},
   "outputs": [],
   "source": []
  }
 ],
 "metadata": {
  "kernelspec": {
   "display_name": "Python 2",
   "language": "python",
   "name": "python2"
  },
  "language_info": {
   "codemirror_mode": {
    "name": "ipython",
    "version": 2
   },
   "file_extension": ".py",
   "mimetype": "text/x-python",
   "name": "python",
   "nbconvert_exporter": "python",
   "pygments_lexer": "ipython2",
   "version": "2.7.12"
  }
 },
 "nbformat": 4,
 "nbformat_minor": 2
}
