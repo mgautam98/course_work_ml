{
 "cells": [
  {
   "cell_type": "raw",
   "metadata": {},
   "source": [
    "Manifold\n",
    "Autoencoders are used for data augmentation\n",
    "Deconvoltion and Transpose operation\n",
    "np.ravel \n",
    "caselate "
   ]
  },
  {
   "cell_type": "code",
   "execution_count": 1,
   "metadata": {},
   "outputs": [],
   "source": [
    "import numpy as np\n",
    "import pandas as pd\n",
    "import torch\n",
    "from torch.autograd import Variable\n",
    "import torch.nn.functional as F\n",
    "from torch import nn\n",
    "import matplotlib.pyplot as plt\n",
    "%matplotlib inline\n",
    "import torch.utils.data as Data"
   ]
  },
  {
   "cell_type": "code",
   "execution_count": 4,
   "metadata": {},
   "outputs": [
    {
     "name": "stdout",
     "output_type": "stream",
     "text": [
      "(60000, 785)\n"
     ]
    }
   ],
   "source": [
    "ds = pd.read_csv('./mnist_train.csv').values\n",
    "print (ds.shape)"
   ]
  },
  {
   "cell_type": "code",
   "execution_count": 7,
   "metadata": {},
   "outputs": [
    {
     "name": "stdout",
     "output_type": "stream",
     "text": [
      "(10000, 1, 28, 28) (10000,)\n"
     ]
    }
   ],
   "source": [
    "X_train = ds[:10000, 1:].reshape((-1, 1, 28, 28)) / 255.0\n",
    "y_train = ds[:10000, 0]\n",
    "\n",
    "X_test = ds[5000:5100, 1:].reshape((-1, 1, 28, 28)) / 255.0\n",
    "y_test = ds[5000:5100, 0]\n",
    "\n",
    "print (X_train.shape, y_train.shape)"
   ]
  },
  {
   "cell_type": "code",
   "execution_count": 8,
   "metadata": {},
   "outputs": [],
   "source": [
    "class CAE(torch.nn.Module):\n",
    "    def __init__(self):\n",
    "        super(CAE, self).__init__()\n",
    "        self.encoder = nn.Sequential(\n",
    "            nn.Conv2d(1, 16, 3, stride=3, padding=1),  # b, 16, 10, 10\n",
    "            nn.ReLU(True),\n",
    "            nn.MaxPool2d(2, stride=2),  # b, 16, 5, 5\n",
    "            nn.Conv2d(16, 8, 3, stride=2, padding=1),  # b, 8, 3, 3\n",
    "            nn.ReLU(True),\n",
    "            nn.MaxPool2d(2, stride=1)  # b, 8, 2, 2\n",
    "        )\n",
    "        self.decoder = nn.Sequential(\n",
    "            nn.ConvTranspose2d(8, 16, 3, stride=2),  # b, 16, 5, 5\n",
    "            nn.ReLU(True),\n",
    "            nn.ConvTranspose2d(16, 8, 5, stride=3, padding=1),  # b, 8, 15, 15\n",
    "            nn.ReLU(True),\n",
    "            nn.ConvTranspose2d(8, 1, 2, stride=2, padding=1),  # b, 1, 28, 28\n",
    "            nn.Sigmoid()\n",
    "        )\n",
    "\n",
    "    def forward(self, x):\n",
    "        x = self.encoder(x)\n",
    "        x = self.decoder(x)\n",
    "        return x"
   ]
  },
  {
   "cell_type": "code",
   "execution_count": 9,
   "metadata": {},
   "outputs": [],
   "source": [
    "model = CAE()"
   ]
  },
  {
   "cell_type": "code",
   "execution_count": 10,
   "metadata": {},
   "outputs": [],
   "source": [
    "optimizer = torch.optim.Adam(model.parameters(), lr=0.008)\n",
    "loss_func = nn.MSELoss()"
   ]
  },
  {
   "cell_type": "code",
   "execution_count": 15,
   "metadata": {},
   "outputs": [],
   "source": [
    "def make_batch(train, labels, batch_size=10):\n",
    "    start = 0\n",
    "    stop = start + batch_size\n",
    "    while start < train.shape[0]:\n",
    "        yield Variable(torch.FloatTensor(train[start:stop]), requires_grad=True), Variable(torch.FloatTensor(train[start:stop]))\n",
    "        start = stop\n",
    "        stop = start + batch_size"
   ]
  },
  {
   "cell_type": "code",
   "execution_count": 17,
   "metadata": {},
   "outputs": [
    {
     "name": "stdout",
     "output_type": "stream",
     "text": [
      "Epoch:  0 | Step:  0 | Acc:  0.029896302\n",
      "Epoch:  1 | Step:  0 | Acc:  0.03000486\n",
      "Epoch:  2 | Step:  0 | Acc:  0.029992312\n",
      "Epoch:  3 | Step:  0 | Acc:  0.029919626\n",
      "Epoch:  4 | Step:  0 | Acc:  0.02976696\n",
      "Epoch:  5 | Step:  0 | Acc:  0.029764485\n",
      "Epoch:  6 | Step:  0 | Acc:  0.029643144\n",
      "Epoch:  7 | Step:  0 | Acc:  0.029554475\n",
      "Epoch:  8 | Step:  0 | Acc:  0.02945656\n",
      "Epoch:  9 | Step:  0 | Acc:  0.029476\n",
      "Epoch:  10 | Step:  0 | Acc:  0.02940036\n",
      "Epoch:  11 | Step:  0 | Acc:  0.029368952\n",
      "Epoch:  12 | Step:  0 | Acc:  0.029312255\n",
      "Epoch:  13 | Step:  0 | Acc:  0.029225271\n",
      "Epoch:  14 | Step:  0 | Acc:  0.029187202\n",
      "Epoch:  15 | Step:  0 | Acc:  0.02907743\n",
      "Epoch:  16 | Step:  0 | Acc:  0.02903144\n",
      "Epoch:  17 | Step:  0 | Acc:  0.028934274\n",
      "Epoch:  18 | Step:  0 | Acc:  0.028862402\n",
      "Epoch:  19 | Step:  0 | Acc:  0.02880031\n"
     ]
    }
   ],
   "source": [
    "for epoch in range(20):\n",
    "    for step, (b_x, b_y) in enumerate(make_batch(X_train, y_train, 256)):   # gives batch data, normalize x when iterate train_loader\n",
    "        # print step,\n",
    "        output = model(b_x)               # cnn output\n",
    "        # print output.size(), output.sum(dim=0)\n",
    "        loss = loss_func(output, b_y)   # cross entropy loss\n",
    "        optimizer.zero_grad()           # clear gradients for this training step\n",
    "        loss.backward()                 # backpropagation, compute gradients\n",
    "        \n",
    "        # for params in model.parameters():\n",
    "        #     print params.grad.cpu().data.sum() # Y U no train!!!\n",
    "        optimizer.step()                # apply gradients\n",
    "\n",
    "        if step % 200 == 0:\n",
    "            test_output = model(torch.FloatTensor(X_test))\n",
    "            test_loss = loss_func(test_output, torch.FloatTensor(X_test))\n",
    "            acc = test_loss.data.numpy()\n",
    "            # pred_y = torch.max(test_output, 1)[1].data.squeeze().numpy()\n",
    "            # accuracy = float((pred_y == test_y.data.numpy()).astype(int).sum()) / float(test_y.size(0))\n",
    "            print('Epoch: ', epoch, '| Step: ', step, '| Acc: ', acc)"
   ]
  },
  {
   "cell_type": "code",
   "execution_count": 18,
   "metadata": {},
   "outputs": [],
   "source": [
    "o = model(torch.FloatTensor(X_train[:100])).data.numpy()"
   ]
  },
  {
   "cell_type": "code",
   "execution_count": 21,
   "metadata": {},
   "outputs": [
    {
     "data": {
      "text/plain": [
       "<matplotlib.image.AxesImage at 0x7fd4774bc080>"
      ]
     },
     "execution_count": 21,
     "metadata": {},
     "output_type": "execute_result"
    },
    {
     "data": {
      "image/png": "[encoded data removed]",
      "text/plain": [
       "<Figure size 432x288 with 1 Axes>"
      ]
     },
     "metadata": {},
     "output_type": "display_data"
    },
    {
     "data": {
      "image/png": "[encoded data removed]",
      "text/plain": [
       "<Figure size 432x288 with 1 Axes>"
      ]
     },
     "metadata": {},
     "output_type": "display_data"
    }
   ],
   "source": [
    "plt.figure(0)\n",
    "plt.imshow(o[50].reshape((28, 28)), cmap='gray')\n",
    "\n",
    "plt.figure(1)\n",
    "plt.imshow(X_train[50].reshape((28, 28)), cmap='gray')"
   ]
  },
  {
   "cell_type": "markdown",
   "metadata": {},
   "source": [
    "# Overfitting"
   ]
  },
  {
   "cell_type": "raw",
   "metadata": {},
   "source": [
    "ensemble learning\n",
    "Normalization\n",
    "Dropout: Dropping the features\n",
    "Data : noise cleaning, quality, augmentation\n",
    "Regularization\n",
    "Cross-validation: training data 900, testing 100->>training 20, testing 980, k-fold cross validation\n",
    "Model Selection: selection of good model, too good fit, simple models\n",
    "Training Schedules: no of epocs, early stoping, \n",
    "\n",
    "low bias and low variance\n",
    "Occam's razors\n",
    "balancing bias and variance to control..\n",
    "\n",
    "Regularization sigma(|x|)>=0-> laso l1 or sigma(X^2)>=0->ridge reglarization l2"
   ]
  },
  {
   "cell_type": "code",
   "execution_count": null,
   "metadata": {},
   "outputs": [],
   "source": []
  }
 ],
 "metadata": {
  "kernelspec": {
   "display_name": "Python 3",
   "language": "python",
   "name": "python3"
  },
  "language_info": {
   "codemirror_mode": {
    "name": "ipython",
    "version": 3
   },
   "file_extension": ".py",
   "mimetype": "text/x-python",
   "name": "python",
   "nbconvert_exporter": "python",
   "pygments_lexer": "ipython3",
   "version": "3.6.5"
  }
 },
 "nbformat": 4,
 "nbformat_minor": 2
}
