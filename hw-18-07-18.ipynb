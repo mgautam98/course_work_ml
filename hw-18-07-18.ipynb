{
 "cells": [
  {
   "cell_type": "code",
   "execution_count": 1,
   "metadata": {},
   "outputs": [],
   "source": [
    "import numpy as np\n",
    "import torch\n",
    "import torch.nn as nn\n",
    "import torch.nn.functional as F\n",
    "import pandas as pd\n",
    "\n",
    "from torch.autograd import Variable\n",
    "from matplotlib import pyplot as plt\n",
    "%matplotlib inline\n"
   ]
  },
  {
   "cell_type": "code",
   "execution_count": 2,
   "metadata": {},
   "outputs": [],
   "source": [
    "def generate_data(N, dim=32, attention_col=1):\n",
    "    x = np.random.standard_normal(size=(N, dim))\n",
    "    y = np.random.randint(low=0, high=3, size=(N, 1))\n",
    "    x[:, attention_col] = y[:, 0]\n",
    "    return x, y"
   ]
  },
  {
   "cell_type": "code",
   "execution_count": 3,
   "metadata": {},
   "outputs": [],
   "source": [
    "class Net(nn.Module):\n",
    "    def __init__(self, ndim=32):\n",
    "        super(self, Net).__init__()\n",
    "        self.attention = nn.Linear(ndim, ndim)\n",
    "        self.out = nn.Linear(ndim, 1)\n",
    "        \n",
    "    def attn(self, x):\n",
    "        p = F.softmax(self.attention(x))\n",
    "        return p\n",
    "        \n",
    "    def forward(self, x):\n",
    "        x = x*self.attn(x)\n",
    "        x = self.out(x)\n",
    "        return x"
   ]
  },
  {
   "cell_type": "code",
   "execution_count": null,
   "metadata": {},
   "outputs": [],
   "source": []
  },
  {
   "cell_type": "code",
   "execution_count": null,
   "metadata": {},
   "outputs": [],
   "source": []
  },
  {
   "cell_type": "code",
   "execution_count": null,
   "metadata": {},
   "outputs": [],
   "source": []
  },
  {
   "cell_type": "raw",
   "metadata": {},
   "source": [
    "Word to Vector "
   ]
  },
  {
   "cell_type": "code",
   "execution_count": 4,
   "metadata": {},
   "outputs": [],
   "source": [
    "import numpy as np\n",
    "from matplotlib import pyplot as plt\n",
    "%matplotlib inline\n",
    "import re\n",
    "import pandas as pd\n",
    "import seaborn as sns\n",
    "import datetime\n",
    "\n",
    "import torch\n",
    "import torch.nn as nn\n",
    "from torch.autograd import Variable\n",
    "import torch.nn.functional as F"
   ]
  },
  {
   "cell_type": "code",
   "execution_count": 5,
   "metadata": {},
   "outputs": [],
   "source": [
    "import numpy as np\n",
    "import sklearn\n",
    "import matplotlib.pyplot as plt\n",
    "%matplotlib inline\n",
    "import gensim"
   ]
  },
  {
   "cell_type": "code",
   "execution_count": 6,
   "metadata": {},
   "outputs": [],
   "source": [
    "f = open(\"input.txt\")\n",
    "ds = f.read()\n",
    "f.close()"
   ]
  },
  {
   "cell_type": "code",
   "execution_count": 7,
   "metadata": {},
   "outputs": [],
   "source": [
    "syms = ['\"', ';', ':', ',', '?', '!', '&', '(', ')', '[', ']', \"'\", '$', '@', '~', '-', '#']\n",
    "syms_2 = ['\\n', '\\t', '_', '>', '<', '      ', '    ']"
   ]
  },
  {
   "cell_type": "code",
   "execution_count": 8,
   "metadata": {},
   "outputs": [],
   "source": [
    "data = []"
   ]
  },
  {
   "cell_type": "code",
   "execution_count": 9,
   "metadata": {},
   "outputs": [],
   "source": [
    "for ix in ds.split('.')[:]:\n",
    "    val = ix\n",
    "    for s in syms:\n",
    "        val = val.strip().replace(s, '')\n",
    "    for s in syms_2:\n",
    "        val = val.strip().replace(s, ' ')\n",
    "    if len(val) <1000 and len(val)>40:\n",
    "        data.append(val.lower())"
   ]
  },
  {
   "cell_type": "code",
   "execution_count": 10,
   "metadata": {},
   "outputs": [
    {
     "data": {
      "text/plain": [
       "26121"
      ]
     },
     "execution_count": 10,
     "metadata": {},
     "output_type": "execute_result"
    }
   ],
   "source": [
    "len(data)"
   ]
  },
  {
   "cell_type": "code",
   "execution_count": 11,
   "metadata": {},
   "outputs": [
    {
     "name": "stdout",
     "output_type": "stream",
     "text": [
      "['but', 'its', 'gods', 'own', 'wind', 'none', 'the', 'less', 'and', 'a', 'cleaner', 'better', 'stronger', 'land', 'will', 'lie', 'in', 'the', 'sunshine', 'when', 'the', 'storm', 'has', 'cleared']\n",
      "------------------------------\n",
      "['start', 'her', 'up', 'watson', 'for', 'its', 'time', 'that', 'we', 'were', 'on', 'our', 'way']\n",
      "------------------------------\n",
      "['i', 'have', 'a', 'check', 'for', 'five', 'hundred', 'pounds', 'which', 'should', 'be', 'cashed', 'early', 'for', 'the', 'drawer', 'is', 'quite', 'capable', 'of', 'stopping', 'it', 'if', 'he', 'can']\n",
      "------------------------------\n",
      "['this', 'text', 'is', 'provided', 'to', 'you', 'asis', 'without', 'any', 'warranty']\n",
      "------------------------------\n",
      "['no', 'warranties', 'of', 'any', 'kind', 'expressed', 'or', 'implied', 'are', 'made', 'to', 'you', 'as', 'to', 'the', 'text', 'or', 'any', 'medium', 'it', 'may', 'be', 'on', 'including', 'but', 'not', 'limited', 'to', 'warranties', 'of', 'merchantablity', 'or', 'fitness', 'for', 'a', 'particular', 'purpose']\n",
      "------------------------------\n",
      "['pictures', 'for', 'the', 'adventure', 'of', 'the', 'dancing', 'men', 'the', 'adventure', 'of', 'the', 'priory', 'school', 'the', 'adventure', 'of', 'the', 'golden', 'pincenez', 'and', 'the', 'adventure', 'of', 'the', 'missing', 'threequarter', 'were', 'taken', 'from', 'a', '1911', 'edition', 'of', 'the', 'the', 'memoirs', 'of', 'sherlock', 'holmes', 'by', 'smith', 'elder', 'co']\n",
      "------------------------------\n",
      "['pictures', 'for', 'the', 'adventure', 'of', 'the', 'dancing', 'men', 'were', 'taken', 'from', 'a', '1915', 'edition', 'of', 'the', 'return', 'of', 'sherlock', 'holmes', 'by', 'smith', 'elder', 'co']\n",
      "------------------------------\n",
      "['this', 'text', 'was', 'formatted', 'from', 'various', 'free', 'ascii', 'and', 'html', 'variants']\n",
      "------------------------------\n",
      "['es', 'for', 'an', 'electronic', 'form', 'of', 'this', 'text', 'and', 'additional', 'information', 'about', 'it']\n",
      "------------------------------\n",
      "['this', 'text', 'comes', 'from', 'the', 'collections', 'version', '3']\n",
      "------------------------------\n"
     ]
    }
   ],
   "source": [
    "for ix in data[-10:]:\n",
    "    print (ix.split())\n",
    "    print ('-'*30)"
   ]
  },
  {
   "cell_type": "code",
   "execution_count": 12,
   "metadata": {},
   "outputs": [],
   "source": [
    "train = []\n",
    "for ix in data[:]:\n",
    "    train.append(ix.lower().split())"
   ]
  },
  {
   "cell_type": "code",
   "execution_count": 13,
   "metadata": {},
   "outputs": [],
   "source": [
    "model = gensim.models.Word2Vec(train, workers=6, iter=20)"
   ]
  },
  {
   "cell_type": "code",
   "execution_count": 14,
   "metadata": {},
   "outputs": [
    {
     "name": "stderr",
     "output_type": "stream",
     "text": [
      "/home/gautam/.local/lib/python3.6/site-packages/ipykernel_launcher.py:1: DeprecationWarning: Call to deprecated `similar_by_word` (Method will be removed in 4.0.0, use self.wv.similar_by_word() instead).\n",
      "  \"\"\"Entry point for launching an IPython kernel.\n",
      "/home/gautam/.local/lib/python3.6/site-packages/gensim/matutils.py:737: FutureWarning: Conversion of the second argument of issubdtype from `int` to `np.signedinteger` is deprecated. In future, it will be treated as `np.int64 == np.dtype(int).type`.\n",
      "  if np.issubdtype(vec.dtype, np.int):\n"
     ]
    },
    {
     "data": {
      "text/plain": [
       "[('eyes', 0.8033992052078247),\n",
       " ('eye', 0.7671215534210205),\n",
       " ('gaze', 0.7561370134353638),\n",
       " ('expression', 0.7357604503631592),\n",
       " ('brow', 0.6856746673583984),\n",
       " ('lips', 0.6785587668418884),\n",
       " ('figure', 0.6714811325073242),\n",
       " ('head', 0.6700893640518188),\n",
       " ('eyebrows', 0.6611854434013367),\n",
       " ('cheek', 0.6544615626335144)]"
      ]
     },
     "execution_count": 14,
     "metadata": {},
     "output_type": "execute_result"
    }
   ],
   "source": [
    "model.similar_by_word('face')"
   ]
  },
  {
   "cell_type": "code",
   "execution_count": 15,
   "metadata": {},
   "outputs": [],
   "source": [
    "w = 'horse car engine travel'.split()"
   ]
  },
  {
   "cell_type": "code",
   "execution_count": 16,
   "metadata": {},
   "outputs": [
    {
     "name": "stderr",
     "output_type": "stream",
     "text": [
      "/home/gautam/.local/lib/python3.6/site-packages/ipykernel_launcher.py:4: DeprecationWarning: Call to deprecated `similarity` (Method will be removed in 4.0.0, use self.wv.similarity() instead).\n",
      "  after removing the cwd from sys.path.\n",
      "/home/gautam/.local/lib/python3.6/site-packages/gensim/matutils.py:737: FutureWarning: Conversion of the second argument of issubdtype from `int` to `np.signedinteger` is deprecated. In future, it will be treated as `np.int64 == np.dtype(int).type`.\n",
      "  if np.issubdtype(vec.dtype, np.int):\n"
     ]
    }
   ],
   "source": [
    "m = np.zeros((len(w), len(w)))\n",
    "for ix in range(len(w)):\n",
    "    for wx in range(len(w)):\n",
    "        m[ix, wx] = model.similarity(w[ix], w[wx])"
   ]
  },
  {
   "cell_type": "code",
   "execution_count": 17,
   "metadata": {},
   "outputs": [
    {
     "name": "stdout",
     "output_type": "stream",
     "text": [
      "['horse', 'car', 'engine', 'travel']\n"
     ]
    },
    {
     "data": {
      "text/plain": [
       "<matplotlib.axes._subplots.AxesSubplot at 0x7ff6641a6a90>"
      ]
     },
     "execution_count": 17,
     "metadata": {},
     "output_type": "execute_result"
    },
    {
     "data": {
      "image/png": "[encoded data removed]",
      "text/plain": [
       "<Figure size 432x288 with 2 Axes>"
      ]
     },
     "metadata": {},
     "output_type": "display_data"
    }
   ],
   "source": [
    "import seaborn as sns\n",
    "print( w)\n",
    "sns.heatmap(m)"
   ]
  },
  {
   "cell_type": "code",
   "execution_count": null,
   "metadata": {},
   "outputs": [],
   "source": []
  }
 ],
 "metadata": {
  "kernelspec": {
   "display_name": "Python 3",
   "language": "python",
   "name": "python3"
  },
  "language_info": {
   "codemirror_mode": {
    "name": "ipython",
    "version": 3
   },
   "file_extension": ".py",
   "mimetype": "text/x-python",
   "name": "python",
   "nbconvert_exporter": "python",
   "pygments_lexer": "ipython3",
   "version": "3.6.5"
  }
 },
 "nbformat": 4,
 "nbformat_minor": 2
}
