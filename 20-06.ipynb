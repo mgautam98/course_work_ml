{
 "cells": [
  {
   "cell_type": "code",
   "execution_count": 1,
   "metadata": {},
   "outputs": [],
   "source": [
    "import numpy as np\n",
    "from matplotlib import pyplot as plt\n",
    "%matplotlib inline\n",
    "import pandas as pd\n",
    "import cv2"
   ]
  },
  {
   "cell_type": "code",
   "execution_count": 3,
   "metadata": {},
   "outputs": [],
   "source": [
    "#implementing knn\n",
    "def distance(v1, v2):\n",
    "    return np.sqrt(((v1-v2)**2).sum())\n",
    "\n",
    "def knn(train, test, k):\n",
    "    lens =[]\n",
    "    \n",
    "    for i in range(train.shape[0]):\n",
    "        ix = train[i, :-1]\n",
    "        iy = train[i, -1]\n",
    "        d = distance(ix, test)\n",
    "        dist.append([d, iy])\n",
    "    dk = sorted(dist, key = lambda x : x[0])[:k]\n",
    "    #extracting the labels\n",
    "    labels = np.array(dk)[:, -1]\n",
    "    output = np.unique(labels, return_counts=True)\n",
    "    index = np.argmax(output[1])\n",
    "    return output[0][index]"
   ]
  },
  {
   "cell_type": "code",
   "execution_count": 5,
   "metadata": {},
   "outputs": [],
   "source": [
    "def test_on_set(train, testing, k):\n",
    "    preds = []\n",
    "    targets = []\n",
    "    \n",
    "    for ix in range(testing.shape[0]):\n",
    "        out = knn(train, testing[ix, :-1], k)\n",
    "        preds.append(out)\n",
    "        targets.append(testing[ix, -1])\n",
    "        \n",
    "    preds = np.asarray(preds)\n",
    "    target = np.asarray(target)\n",
    "    \n",
    "    acc = float((preds == targets).sum)/len(preds)\n",
    "    return acc"
   ]
  },
  {
   "cell_type": "code",
   "execution_count": null,
   "metadata": {},
   "outputs": [],
   "source": []
  }
 ],
 "metadata": {
  "kernelspec": {
   "display_name": "Python 2",
   "language": "python",
   "name": "python2"
  },
  "language_info": {
   "codemirror_mode": {
    "name": "ipython",
    "version": 2
   },
   "file_extension": ".py",
   "mimetype": "text/x-python",
   "name": "python",
   "nbconvert_exporter": "python",
   "pygments_lexer": "ipython2",
   "version": "2.7.12"
  }
 },
 "nbformat": 4,
 "nbformat_minor": 2
}
