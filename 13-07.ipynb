{
 "cells": [
  {
   "cell_type": "raw",
   "metadata": {},
   "source": [
    "Dropout and Normalization\n",
    "Dropout prob, dropout node"
   ]
  },
  {
   "cell_type": "raw",
   "metadata": {},
   "source": [
    "Batch normalization\n",
    "\n",
    "1. Find mean, variance\n",
    "2. Standard normal distribution\n",
    "3. To a different distribution\n",
    "\n",
    "\n",
    "replace .dropout with BatchNorm2d"
   ]
  },
  {
   "cell_type": "markdown",
   "metadata": {},
   "source": [
    "# Markov Chain"
   ]
  },
  {
   "cell_type": "raw",
   "metadata": {},
   "source": [
    "Project kertenbrg\n",
    "Natural language toolkit"
   ]
  },
  {
   "cell_type": "code",
   "execution_count": null,
   "metadata": {},
   "outputs": [],
   "source": []
  }
 ],
 "metadata": {
  "kernelspec": {
   "display_name": "Python 3",
   "language": "python",
   "name": "python3"
  },
  "language_info": {
   "codemirror_mode": {
    "name": "ipython",
    "version": 3
   },
   "file_extension": ".py",
   "mimetype": "text/x-python",
   "name": "python",
   "nbconvert_exporter": "python",
   "pygments_lexer": "ipython3",
   "version": "3.6.5"
  }
 },
 "nbformat": 4,
 "nbformat_minor": 2
}
